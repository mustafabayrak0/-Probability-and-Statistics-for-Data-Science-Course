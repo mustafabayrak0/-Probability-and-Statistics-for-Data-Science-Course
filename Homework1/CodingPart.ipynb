{
 "cells": [
  {
   "cell_type": "code",
   "execution_count": 13,
   "metadata": {},
   "outputs": [],
   "source": [
    "import random\n",
    "import matplotlib.pyplot as plt"
   ]
  },
  {
   "cell_type": "code",
   "execution_count": 14,
   "metadata": {},
   "outputs": [],
   "source": [
    "def birthday_func(lst):\n",
    "    if len(lst) == len(set(lst)):\n",
    "        return 0\n",
    "    else:\n",
    "        return 1"
   ]
  },
  {
   "cell_type": "code",
   "execution_count": 15,
   "metadata": {},
   "outputs": [],
   "source": [
    "def probs_func(count):\n",
    "    prob_total = 0\n",
    "    for itteration in range(10000):\n",
    "        lst = []\n",
    "        prob_iter = 0\n",
    "        for j in range(count):\n",
    "            lst.append(random.randrange(1, 366))\n",
    "        prob_iter += birthday_func(lst)\n",
    "        prob_total += prob_iter / 100\n",
    "    return float(prob_total)"
   ]
  },
  {
   "cell_type": "code",
   "execution_count": 16,
   "metadata": {},
   "outputs": [],
   "source": [
    "probs_dict = {}\n",
    "probs_dict[1] = 0\n",
    "for i in range(2, 101):\n",
    "    probs_dict[i] = probs_func(i)"
   ]
  },
  {
   "cell_type": "code",
   "execution_count": 17,
   "metadata": {},
   "outputs": [
    {
     "data": {
      "image/png": "[encoded data removed]",
      "text/plain": [
       "<Figure size 1440x360 with 1 Axes>"
      ]
     },
     "metadata": {
      "needs_background": "light"
     },
     "output_type": "display_data"
    }
   ],
   "source": [
    "plt.figure(figsize=(20, 5))\n",
    "plt.bar(probs_dict.keys(), probs_dict.values(), color=\"red\", width=0.7)\n",
    "plt.show()"
   ]
  },
  {
   "cell_type": "code",
   "execution_count": 18,
   "metadata": {},
   "outputs": [],
   "source": [
    "def combination_function(a, b):\n",
    "    nominator = 1\n",
    "    denominator = 1\n",
    "    for i in range(b):\n",
    "        nominator *= a - i\n",
    "        denominator *= i + 1\n",
    "    return nominator / denominator"
   ]
  },
  {
   "cell_type": "code",
   "execution_count": 19,
   "metadata": {},
   "outputs": [],
   "source": [
    "def permutation(a):\n",
    "    result = 1\n",
    "    for i in range(a):\n",
    "        result *= i + 1\n",
    "    return result"
   ]
  },
  {
   "cell_type": "code",
   "execution_count": 20,
   "metadata": {},
   "outputs": [],
   "source": [
    "def toString(List):\n",
    "    return ''.join(List)\n",
    "lst = []\n"
   ]
  },
  {
   "cell_type": "code",
   "execution_count": 21,
   "metadata": {},
   "outputs": [],
   "source": [
    "def permute(a, l, r):\n",
    "    for i in lst:\n",
    "        if len(i) != r:\n",
    "            lst.remove(i)\n",
    "    if l == r:\n",
    "        lst.append(toString(a))\n",
    "    else:\n",
    "        for i in range(l, r):\n",
    "            a[l], a[i] = a[i], a[l]\n",
    "            permute(a, l + 1, r)\n",
    "            a[l], a[i] = a[i], a[l]"
   ]
  },
  {
   "cell_type": "code",
   "execution_count": 22,
   "metadata": {},
   "outputs": [],
   "source": [
    "def result_func(x, ln):\n",
    "    count = 0\n",
    "    for i in lst:\n",
    "        for j in i:\n",
    "            check = True\n",
    "            if i.index(j) == int(j):\n",
    "                check = False\n",
    "                break\n",
    "        if check:\n",
    "            count += 1\n",
    "    k = combination_function(7, ln)\n",
    "    result = (count / x) * k\n",
    "    return result"
   ]
  },
  {
   "cell_type": "code",
   "execution_count": 23,
   "metadata": {},
   "outputs": [],
   "source": [
    "results_dict = dict()\n",
    "for i in range(2, 8):\n",
    "    string = \"\"\n",
    "    for t in range(i):\n",
    "        string += str(t)\n",
    "    n = len(string)\n",
    "    a = list(string)\n",
    "    x = permutation(7)\n",
    "    permute(a, 0, n)\n",
    "    results_dict[7-i] = result_func(x, len(string))\n",
    "results_dict[7] = 1 / permutation(7)\n",
    "results_dict[6] = 0"
   ]
  },
  {
   "cell_type": "code",
   "execution_count": 24,
   "metadata": {},
   "outputs": [
    {
     "data": {
      "image/png": "[encoded data removed]",
      "text/plain": [
       "<Figure size 1080x360 with 1 Axes>"
      ]
     },
     "metadata": {
      "needs_background": "light"
     },
     "output_type": "display_data"
    }
   ],
   "source": [
    "plt.figure(figsize=(15, 5))\n",
    "plt.bar(results_dict.keys(), results_dict.values(), color=\"red\", width=0.6)\n",
    "plt.show()"
   ]
  }
 ],
 "metadata": {
  "kernelspec": {
   "display_name": "Python 3 (ipykernel)",
   "language": "python",
   "name": "python3"
  },
  "language_info": {
   "codemirror_mode": {
    "name": "ipython",
    "version": 3
   },
   "file_extension": ".py",
   "mimetype": "text/x-python",
   "name": "python",
   "nbconvert_exporter": "python",
   "pygments_lexer": "ipython3",
   "version": "3.9.12"
  },
  "vscode": {
   "interpreter": {
    "hash": "b683bd4b87c8b16609ac9a3ef3aab015b96a8503b853fa71d3fe1e7ebcd29d95"
   }
  }
 },
 "nbformat": 4,
 "nbformat_minor": 4
}
